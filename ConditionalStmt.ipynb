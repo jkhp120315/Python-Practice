{
 "cells": [
  {
   "cell_type": "code",
   "execution_count": 1,
   "id": "d542b5b9-9a37-4604-90fb-c9e96ab9f2a7",
   "metadata": {},
   "outputs": [],
   "source": [
    "fit = True"
   ]
  },
  {
   "cell_type": "code",
   "execution_count": 2,
   "id": "88a7229e-ae7f-4306-84d8-fae422b5192d",
   "metadata": {},
   "outputs": [
    {
     "name": "stdout",
     "output_type": "stream",
     "text": [
      "I will play cricket\n",
      "That's it\n"
     ]
    }
   ],
   "source": [
    "if fit:\n",
    "    print(\"I will play cricket\")\n",
    "print(\"That's it\")"
   ]
  },
  {
   "cell_type": "code",
   "execution_count": 3,
   "id": "797e5cea-75d1-432a-a9de-8eb287a8872c",
   "metadata": {},
   "outputs": [],
   "source": [
    "fit = False"
   ]
  },
  {
   "cell_type": "code",
   "execution_count": 4,
   "id": "0b146bc2-f277-4610-9cea-da4377fc163c",
   "metadata": {},
   "outputs": [
    {
     "name": "stdout",
     "output_type": "stream",
     "text": [
      "That's it\n"
     ]
    }
   ],
   "source": [
    "if fit:\n",
    "    print(\"I will play cricket\")\n",
    "print(\"That's it\")"
   ]
  },
  {
   "cell_type": "code",
   "execution_count": 5,
   "id": "04c543d9-d0be-4ee4-afa3-e9e6e9916c55",
   "metadata": {},
   "outputs": [],
   "source": [
    "if fit:\n",
    "    print(\"I will play cricket\")\n",
    "    print(\"That's it\")"
   ]
  },
  {
   "cell_type": "code",
   "execution_count": 6,
   "id": "a2dec4d8-c463-41c5-afa3-f55a062507ec",
   "metadata": {},
   "outputs": [],
   "source": [
    "fit = True"
   ]
  },
  {
   "cell_type": "code",
   "execution_count": 7,
   "id": "480f18ce-5f42-4100-9ec6-2bd93fd57e5c",
   "metadata": {},
   "outputs": [
    {
     "name": "stdout",
     "output_type": "stream",
     "text": [
      "I will play cricket\n",
      "That's it\n"
     ]
    }
   ],
   "source": [
    "if fit:\n",
    "    print(\"I will play cricket\")\n",
    "    print(\"That's it\")"
   ]
  },
  {
   "cell_type": "code",
   "execution_count": 8,
   "id": "55d84f47-a914-468b-b975-1cd968058960",
   "metadata": {},
   "outputs": [
    {
     "name": "stdout",
     "output_type": "stream",
     "text": [
      "I will play cricket\n",
      "That's it\n"
     ]
    }
   ],
   "source": [
    "if (fit):\n",
    "    print(\"I will play cricket\")\n",
    "print(\"That's it\")"
   ]
  },
  {
   "cell_type": "markdown",
   "id": "06db1060-1d8d-46f2-b8f8-4e7a09f4f9b8",
   "metadata": {},
   "source": [
    "# WAP to print if number is odd or evn"
   ]
  },
  {
   "cell_type": "code",
   "execution_count": 9,
   "id": "a3e9914b-cfbb-434f-89c8-cc90be1dba14",
   "metadata": {},
   "outputs": [
    {
     "name": "stdin",
     "output_type": "stream",
     "text": [
      "Kindly enter number 5\n"
     ]
    }
   ],
   "source": [
    "num = int(input(\"Kindly enter number\"))"
   ]
  },
  {
   "cell_type": "code",
   "execution_count": 12,
   "id": "f37c7a04-7cb3-48b9-95c7-a25f62c6998f",
   "metadata": {},
   "outputs": [
    {
     "ename": "SyntaxError",
     "evalue": "expected ':' (1572177997.py, line 3)",
     "output_type": "error",
     "traceback": [
      "\u001b[1;36m  Cell \u001b[1;32mIn[12], line 3\u001b[1;36m\u001b[0m\n\u001b[1;33m    else\u001b[0m\n\u001b[1;37m        ^\u001b[0m\n\u001b[1;31mSyntaxError\u001b[0m\u001b[1;31m:\u001b[0m expected ':'\n"
     ]
    }
   ],
   "source": [
    "if ( num % 2 == 0 ) :\n",
    "    print(\"Number is even\")\n",
    "else\n",
    "    print(\"Number is Odd\")"
   ]
  },
  {
   "cell_type": "code",
   "execution_count": 13,
   "id": "459b8096-8665-4196-b05a-d2a4546479c0",
   "metadata": {},
   "outputs": [
    {
     "name": "stdout",
     "output_type": "stream",
     "text": [
      "Number is Odd\n"
     ]
    }
   ],
   "source": [
    "if ( num % 2 == 0 ) :\n",
    "    print(\"Number is even\")\n",
    "else:\n",
    "    print(\"Number is Odd\")"
   ]
  },
  {
   "cell_type": "code",
   "execution_count": 15,
   "id": "72d1a9e6-99a4-49ea-8cdc-74c23bd4085c",
   "metadata": {},
   "outputs": [
    {
     "name": "stdout",
     "output_type": "stream",
     "text": [
      "Number is Odd\n"
     ]
    }
   ],
   "source": [
    "if ( num % 2 == 0 ) :\n",
    "    print(\"Number is even\")\n",
    "else:\n",
    "    print(\"Number is Odd\")"
   ]
  },
  {
   "cell_type": "code",
   "execution_count": 16,
   "id": "c4eaf6e3-7d52-430d-950b-6c255b38c5bf",
   "metadata": {},
   "outputs": [
    {
     "name": "stdin",
     "output_type": "stream",
     "text": [
      "Kindly enter number 6\n"
     ]
    },
    {
     "name": "stdout",
     "output_type": "stream",
     "text": [
      "Number is even\n"
     ]
    }
   ],
   "source": [
    "num = int(input(\"Kindly enter number\"))\n",
    "if ( num % 2 == 0 ) :\n",
    "    print(\"Number is even\")\n",
    "else:\n",
    "    print(\"Number is Odd\")"
   ]
  },
  {
   "cell_type": "code",
   "execution_count": 17,
   "id": "c52b3e70-051a-4312-bc85-ee9325ae1fd2",
   "metadata": {},
   "outputs": [
    {
     "name": "stdout",
     "output_type": "stream",
     "text": [
      "we will play\n"
     ]
    }
   ],
   "source": [
    "if fit:\n",
    "    print(\"we will play\")\n",
    "if not fit:\n",
    "    print(\"We will not play\")"
   ]
  },
  {
   "cell_type": "code",
   "execution_count": 18,
   "id": "ab637c0f-facb-4079-89ae-24c7d8e58181",
   "metadata": {},
   "outputs": [
    {
     "ename": "NameError",
     "evalue": "name 'false' is not defined",
     "output_type": "error",
     "traceback": [
      "\u001b[1;31m---------------------------------------------------------------------------\u001b[0m",
      "\u001b[1;31mNameError\u001b[0m                                 Traceback (most recent call last)",
      "Cell \u001b[1;32mIn[18], line 1\u001b[0m\n\u001b[1;32m----> 1\u001b[0m fit \u001b[38;5;241m=\u001b[39m false\n",
      "\u001b[1;31mNameError\u001b[0m: name 'false' is not defined"
     ]
    }
   ],
   "source": [
    "fit = false"
   ]
  },
  {
   "cell_type": "code",
   "execution_count": 19,
   "id": "1588c605-c1cb-40ac-8e4b-26f5361ffb36",
   "metadata": {},
   "outputs": [],
   "source": [
    "fit = False"
   ]
  },
  {
   "cell_type": "code",
   "execution_count": 20,
   "id": "97850e47-4d52-4bb1-80dc-278c4e9cd941",
   "metadata": {},
   "outputs": [
    {
     "name": "stdout",
     "output_type": "stream",
     "text": [
      "We will not play\n"
     ]
    }
   ],
   "source": [
    "if fit:\n",
    "    print(\"we will play\")\n",
    "if not fit:\n",
    "    print(\"We will not play\")"
   ]
  },
  {
   "cell_type": "code",
   "execution_count": 21,
   "id": "e3669e85-3c33-4fc2-afc7-b11e10c6976f",
   "metadata": {},
   "outputs": [],
   "source": [
    "marks = 40"
   ]
  },
  {
   "cell_type": "code",
   "execution_count": null,
   "id": "41c94e3c-596a-4ab8-afd4-0b840a68357c",
   "metadata": {},
   "outputs": [],
   "source": [
    "if ( marks >=35 amd marks < 60 ):\n",
    "    print(\"D Grade\")\n",
    "elif ( marks >=60 amd marks < 70 ):\n",
    "    print(\"C Grade\")\n",
    "elif ( marks >=70 amd marks < 90 ):\n",
    "    print(\"B Grade\")\n",
    "elif ( marks >=90 amd marks <= 100 ):\n",
    "    print(\"A Grade\")\n",
    "else:\n",
    "    print(\"Fail\")"
   ]
  },
  {
   "cell_type": "code",
   "execution_count": 23,
   "id": "467f085e-43e9-460b-aea4-3da9ed5d0784",
   "metadata": {},
   "outputs": [
    {
     "name": "stdout",
     "output_type": "stream",
     "text": [
      "D Grade\n"
     ]
    }
   ],
   "source": [
    "if ( marks >=35 and marks < 60 ):\n",
    "    print(\"D Grade\")\n",
    "elif ( marks >=60 and marks < 70 ):\n",
    "    print(\"C Grade\")\n",
    "elif ( marks >=70 and marks < 90 ):\n",
    "    print(\"B Grade\")\n",
    "elif ( marks >=90 and marks <= 100 ):\n",
    "    print(\"A Grade\")\n",
    "else:\n",
    "    print(\"Fail\")"
   ]
  },
  {
   "cell_type": "code",
   "execution_count": 24,
   "id": "ec0a25f8-e117-40c6-82ae-7451b8c48694",
   "metadata": {},
   "outputs": [
    {
     "ename": "SyntaxError",
     "evalue": "invalid syntax. Perhaps you forgot a comma? (1399249728.py, line 2)",
     "output_type": "error",
     "traceback": [
      "\u001b[1;36m  Cell \u001b[1;32mIn[24], line 2\u001b[1;36m\u001b[0m\n\u001b[1;33m    if ( marks >=35 amd marks < 60 ):\u001b[0m\n\u001b[1;37m         ^\u001b[0m\n\u001b[1;31mSyntaxError\u001b[0m\u001b[1;31m:\u001b[0m invalid syntax. Perhaps you forgot a comma?\n"
     ]
    }
   ],
   "source": [
    "marks = 25\n",
    "if ( marks >=35 amd marks < 60 ):\n",
    "    print(\"D Grade\")\n",
    "elif ( marks >=60 amd marks < 70 ):\n",
    "    print(\"C Grade\")\n",
    "elif ( marks >=70 amd marks < 90 ):\n",
    "    print(\"B Grade\")\n",
    "elif ( marks >=90 amd marks <= 100 ):\n",
    "    print(\"A Grade\")\n",
    "else:\n",
    "    print(\"Fail\")"
   ]
  },
  {
   "cell_type": "code",
   "execution_count": 25,
   "id": "e456b549-d6c5-41e7-aba5-228d396c6912",
   "metadata": {},
   "outputs": [
    {
     "name": "stdout",
     "output_type": "stream",
     "text": [
      "Fail\n"
     ]
    }
   ],
   "source": [
    "marks = 25"
   ]
  },
  {
   "cell_type": "code",
   "execution_count": 28,
   "id": "b0970f14-1b9c-4f85-ab1c-655316d73015",
   "metadata": {},
   "outputs": [
    {
     "name": "stdout",
     "output_type": "stream",
     "text": [
      "D Grade\n"
     ]
    }
   ],
   "source": [
    "if ( marks >=35 and marks < 60 ):\n",
    "    print(\"D Grade\")\n",
    "elif ( marks >=60 and marks < 70 ):\n",
    "    print(\"C Grade\")\n",
    "elif ( marks >=70 and marks < 90 ):\n",
    "    print(\"B Grade\")\n",
    "elif ( marks >=90 and marks <= 100 ):\n",
    "    print(\"A Grade\")\n",
    "else:\n",
    "    print(\"Fail\")"
   ]
  },
  {
   "cell_type": "code",
   "execution_count": 27,
   "id": "faf86ca0-23b0-4a57-ad63-cd216cef42fe",
   "metadata": {},
   "outputs": [],
   "source": [
    "marks = 57"
   ]
  },
  {
   "cell_type": "code",
   "execution_count": 34,
   "id": "91a24d65-9b76-453d-9f11-ed6726e09a5e",
   "metadata": {},
   "outputs": [
    {
     "name": "stdout",
     "output_type": "stream",
     "text": [
      "A Grade\n"
     ]
    }
   ],
   "source": [
    "if ( marks >=35 and marks < 60 ):\n",
    "    print(\"D Grade\")\n",
    "elif ( marks >=60 and marks < 70 ):\n",
    "    print(\"C Grade\")\n",
    "elif ( marks >=70 and marks < 90 ):\n",
    "    print(\"B Grade\")\n",
    "elif ( marks >=90 and marks <= 100 ):\n",
    "    print(\"A Grade\")\n",
    "else:\n",
    "    print(\"Fail\")"
   ]
  },
  {
   "cell_type": "code",
   "execution_count": 32,
   "id": "d4bfe2c4-4939-450d-a4aa-8175db149893",
   "metadata": {},
   "outputs": [],
   "source": [
    "marks = 87"
   ]
  },
  {
   "cell_type": "code",
   "execution_count": 33,
   "id": "36d0d684-69e9-4af9-a1e6-5cf81c0a6647",
   "metadata": {},
   "outputs": [],
   "source": [
    "marks = 100"
   ]
  },
  {
   "cell_type": "code",
   "execution_count": 36,
   "id": "df60f3ac-f7d5-4c50-b842-01df1b40cdc6",
   "metadata": {},
   "outputs": [],
   "source": [
    "a='a'"
   ]
  },
  {
   "cell_type": "markdown",
   "id": "7467e00b-3ed8-4861-bd16-31d9f587e5d5",
   "metadata": {},
   "source": [
    "# WAP to check if input char is Capital , Small , Number or special char"
   ]
  },
  {
   "cell_type": "code",
   "execution_count": 41,
   "id": "ec45b52b-1573-4c21-ba91-c3fc7a6fc5be",
   "metadata": {},
   "outputs": [
    {
     "ename": "SyntaxError",
     "evalue": "invalid syntax. Perhaps you forgot a comma? (2577573998.py, line 2)",
     "output_type": "error",
     "traceback": [
      "\u001b[1;36m  Cell \u001b[1;32mIn[41], line 2\u001b[1;36m\u001b[0m\n\u001b[1;33m    print(\"{inputChar}\" is Small character)\u001b[0m\n\u001b[1;37m          ^\u001b[0m\n\u001b[1;31mSyntaxError\u001b[0m\u001b[1;31m:\u001b[0m invalid syntax. Perhaps you forgot a comma?\n"
     ]
    }
   ],
   "source": [
    "\n",
    "\n",
    "if (ord(inputChar) >= 97 and  ord(inputChar) >= 122):\n",
    "    print(\"{inputChar}\" is Small character)\n",
    "elif (ord(inputChar) >= 65 and  ord(inputChar) >= 90):\n",
    "    print(\"{inputChar}\" is Capital character)\n",
    "elif (ord(inputChar) >= 48 and  ord(inputChar) >= 57):\n",
    "    print(\"{inputChar}\" is Number character)\n",
    "else:\n",
    "    print(\"{inputChar}\" is Special character)"
   ]
  },
  {
   "cell_type": "code",
   "execution_count": 40,
   "id": "a82fc445-2095-466b-9cec-2735bd64bbd4",
   "metadata": {},
   "outputs": [
    {
     "name": "stdin",
     "output_type": "stream",
     "text": [
      "Enter character 5\n"
     ]
    }
   ],
   "source": [
    "inputChar = str(input(\"Enter character\"))"
   ]
  },
  {
   "cell_type": "code",
   "execution_count": 49,
   "id": "c2e39c4b-f4d1-42b5-9b9f-6c63493b8da6",
   "metadata": {},
   "outputs": [
    {
     "name": "stdin",
     "output_type": "stream",
     "text": [
      "Enter character %\n"
     ]
    },
    {
     "name": "stdout",
     "output_type": "stream",
     "text": [
      "% is Special character\n"
     ]
    }
   ],
   "source": [
    "inputChar = str(input(\"Enter character\"))\n",
    "if (ord(inputChar) >= 97 and  ord(inputChar) <= 122):\n",
    "    print(f\"{inputChar} is Small character\")\n",
    "elif (ord(inputChar) >= 65 and  ord(inputChar) <= 90):\n",
    "    print(f\"{inputChar} is Capital character\")\n",
    "elif (ord(inputChar) >= 48 and  ord(inputChar) <= 57):\n",
    "    print(f\"{inputChar} is Number character\")\n",
    "else:\n",
    "    print(f\"{inputChar} is Special character\")"
   ]
  },
  {
   "cell_type": "code",
   "execution_count": 44,
   "id": "c0597e4e-c314-4c01-b633-6af0e338af0e",
   "metadata": {},
   "outputs": [
    {
     "data": {
      "text/plain": [
       "53"
      ]
     },
     "execution_count": 44,
     "metadata": {},
     "output_type": "execute_result"
    }
   ],
   "source": [
    "ord(inputChar)"
   ]
  },
  {
   "cell_type": "code",
   "execution_count": 46,
   "id": "02b6eed6-4239-449e-9cd4-e02d01ee823f",
   "metadata": {},
   "outputs": [
    {
     "ename": "NameError",
     "evalue": "name 'J' is not defined",
     "output_type": "error",
     "traceback": [
      "\u001b[1;31m---------------------------------------------------------------------------\u001b[0m",
      "\u001b[1;31mNameError\u001b[0m                                 Traceback (most recent call last)",
      "Cell \u001b[1;32mIn[46], line 1\u001b[0m\n\u001b[1;32m----> 1\u001b[0m J\n",
      "\u001b[1;31mNameError\u001b[0m: name 'J' is not defined"
     ]
    }
   ],
   "source": [
    "J"
   ]
  },
  {
   "cell_type": "code",
   "execution_count": 58,
   "id": "539ecd42-f785-4a48-a07b-935e63916602",
   "metadata": {},
   "outputs": [
    {
     "name": "stdout",
     "output_type": "stream",
     "text": [
      "Not interested in Sports\n"
     ]
    }
   ],
   "source": [
    "sports = False\n",
    "sportsName = \"Hocket\"\n",
    "if sports:\n",
    "    if (sportsName==\"Football\"):\n",
    "        print(f\"{sportsName} is selected\")\n",
    "    elif (sportsName==\"Cricket\"):\n",
    "        print(f\"{sportsName} is selected\")\n",
    "    else:\n",
    "        print(f\"{sportsName} is selected\")\n",
    "else:\n",
    "    print(\"Not interested in Sports\")"
   ]
  },
  {
   "cell_type": "code",
   "execution_count": null,
   "id": "3fed5dd3-7c17-41b0-ae9f-868d1804b87f",
   "metadata": {},
   "outputs": [],
   "source": []
  }
 ],
 "metadata": {
  "kernelspec": {
   "display_name": "Python 3 (ipykernel)",
   "language": "python",
   "name": "python3"
  },
  "language_info": {
   "codemirror_mode": {
    "name": "ipython",
    "version": 3
   },
   "file_extension": ".py",
   "mimetype": "text/x-python",
   "name": "python",
   "nbconvert_exporter": "python",
   "pygments_lexer": "ipython3",
   "version": "3.11.7"
  }
 },
 "nbformat": 4,
 "nbformat_minor": 5
}
