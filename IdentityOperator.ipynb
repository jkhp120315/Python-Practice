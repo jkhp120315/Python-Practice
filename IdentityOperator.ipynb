{
 "cells": [
  {
   "cell_type": "code",
   "execution_count": 1,
   "id": "480192ef-5606-4aa4-8db2-e8313a91cdaa",
   "metadata": {},
   "outputs": [],
   "source": [
    "b = 5"
   ]
  },
  {
   "cell_type": "code",
   "execution_count": 2,
   "id": "8bc54113-387a-44f6-bd39-676e56311594",
   "metadata": {},
   "outputs": [
    {
     "name": "stdout",
     "output_type": "stream",
     "text": [
      "<class 'int'>\n"
     ]
    }
   ],
   "source": [
    "print(type(b))"
   ]
  },
  {
   "cell_type": "code",
   "execution_count": 3,
   "id": "4ae80bb9-feee-4ae8-a8e8-05de9559136e",
   "metadata": {},
   "outputs": [],
   "source": [
    "c = 6"
   ]
  },
  {
   "cell_type": "code",
   "execution_count": 4,
   "id": "27259ea1-bc39-4cd7-9dcf-3b2855b6aacb",
   "metadata": {},
   "outputs": [
    {
     "data": {
      "text/plain": [
       "False"
      ]
     },
     "execution_count": 4,
     "metadata": {},
     "output_type": "execute_result"
    }
   ],
   "source": [
    "b is c"
   ]
  },
  {
   "cell_type": "code",
   "execution_count": 5,
   "id": "3d01166c-477f-4277-bc0f-e51bb3d3c343",
   "metadata": {},
   "outputs": [
    {
     "data": {
      "text/plain": [
       "True"
      ]
     },
     "execution_count": 5,
     "metadata": {},
     "output_type": "execute_result"
    }
   ],
   "source": [
    "b is b"
   ]
  },
  {
   "cell_type": "code",
   "execution_count": 6,
   "id": "16c0cd06-6241-48f8-a41a-b856a09943d9",
   "metadata": {},
   "outputs": [
    {
     "name": "stderr",
     "output_type": "stream",
     "text": [
      "<>:1: SyntaxWarning: \"is\" with a literal. Did you mean \"==\"?\n",
      "<>:1: SyntaxWarning: \"is\" with a literal. Did you mean \"==\"?\n",
      "C:\\Users\\hp\\AppData\\Local\\Temp\\ipykernel_9336\\3558128966.py:1: SyntaxWarning: \"is\" with a literal. Did you mean \"==\"?\n",
      "  b is 5\n"
     ]
    },
    {
     "data": {
      "text/plain": [
       "True"
      ]
     },
     "execution_count": 6,
     "metadata": {},
     "output_type": "execute_result"
    }
   ],
   "source": [
    "b is 5"
   ]
  },
  {
   "cell_type": "code",
   "execution_count": 7,
   "id": "12dc11fc-652e-42ce-bd08-ac9a69eed25d",
   "metadata": {},
   "outputs": [
    {
     "name": "stderr",
     "output_type": "stream",
     "text": [
      "<>:1: SyntaxWarning: \"is\" with a literal. Did you mean \"==\"?\n",
      "<>:1: SyntaxWarning: \"is\" with a literal. Did you mean \"==\"?\n",
      "C:\\Users\\hp\\AppData\\Local\\Temp\\ipykernel_9336\\3558128966.py:1: SyntaxWarning: \"is\" with a literal. Did you mean \"==\"?\n",
      "  b is 5\n"
     ]
    },
    {
     "data": {
      "text/plain": [
       "True"
      ]
     },
     "execution_count": 7,
     "metadata": {},
     "output_type": "execute_result"
    }
   ],
   "source": [
    "b is 5"
   ]
  },
  {
   "cell_type": "code",
   "execution_count": 8,
   "id": "7dafb3d4-81c4-48c6-ad9a-7575dce62a79",
   "metadata": {},
   "outputs": [
    {
     "name": "stderr",
     "output_type": "stream",
     "text": [
      "<>:1: SyntaxWarning: \"is\" with a literal. Did you mean \"==\"?\n",
      "<>:1: SyntaxWarning: \"is\" with a literal. Did you mean \"==\"?\n",
      "C:\\Users\\hp\\AppData\\Local\\Temp\\ipykernel_9336\\3426150107.py:1: SyntaxWarning: \"is\" with a literal. Did you mean \"==\"?\n",
      "  5 is b\n"
     ]
    },
    {
     "data": {
      "text/plain": [
       "True"
      ]
     },
     "execution_count": 8,
     "metadata": {},
     "output_type": "execute_result"
    }
   ],
   "source": [
    "5 is b"
   ]
  },
  {
   "cell_type": "code",
   "execution_count": 9,
   "id": "85693470-b05f-4f41-9962-465abc4fc032",
   "metadata": {},
   "outputs": [
    {
     "data": {
      "text/plain": [
       "True"
      ]
     },
     "execution_count": 9,
     "metadata": {},
     "output_type": "execute_result"
    }
   ],
   "source": [
    "type(b) is int"
   ]
  },
  {
   "cell_type": "code",
   "execution_count": 10,
   "id": "84601404-bee2-4f83-a214-e1ca861e961e",
   "metadata": {},
   "outputs": [
    {
     "data": {
      "text/plain": [
       "False"
      ]
     },
     "execution_count": 10,
     "metadata": {},
     "output_type": "execute_result"
    }
   ],
   "source": [
    "type(b) is float"
   ]
  },
  {
   "cell_type": "code",
   "execution_count": 11,
   "id": "2c083207-cfd6-41df-969d-98167f052482",
   "metadata": {},
   "outputs": [],
   "source": [
    "b = 4.5"
   ]
  },
  {
   "cell_type": "code",
   "execution_count": 12,
   "id": "3b36bea3-108b-4bd0-85fd-c15cd35f30c0",
   "metadata": {},
   "outputs": [
    {
     "data": {
      "text/plain": [
       "True"
      ]
     },
     "execution_count": 12,
     "metadata": {},
     "output_type": "execute_result"
    }
   ],
   "source": [
    "type(b) is float"
   ]
  },
  {
   "cell_type": "code",
   "execution_count": 13,
   "id": "29d472c7-6a9b-4166-a7c2-5c2959b6bef7",
   "metadata": {},
   "outputs": [
    {
     "data": {
      "text/plain": [
       "False"
      ]
     },
     "execution_count": 13,
     "metadata": {},
     "output_type": "execute_result"
    }
   ],
   "source": [
    "type(b) is not float"
   ]
  },
  {
   "cell_type": "code",
   "execution_count": 14,
   "id": "1572b60d-4a02-4ff6-b3f3-4f7921d7aeae",
   "metadata": {},
   "outputs": [
    {
     "data": {
      "text/plain": [
       "True"
      ]
     },
     "execution_count": 14,
     "metadata": {},
     "output_type": "execute_result"
    }
   ],
   "source": [
    "type(b) is not int"
   ]
  },
  {
   "cell_type": "code",
   "execution_count": 15,
   "id": "dfaf9cfa-ccea-4204-8221-0df6c22261bc",
   "metadata": {},
   "outputs": [],
   "source": [
    "c = 'HP'"
   ]
  },
  {
   "cell_type": "code",
   "execution_count": 16,
   "id": "08554436-a060-4129-8481-d68471835b83",
   "metadata": {},
   "outputs": [
    {
     "data": {
      "text/plain": [
       "True"
      ]
     },
     "execution_count": 16,
     "metadata": {},
     "output_type": "execute_result"
    }
   ],
   "source": [
    "type(c) is str"
   ]
  },
  {
   "cell_type": "code",
   "execution_count": 17,
   "id": "138fc538-e7bd-4d8d-95d7-f90c5e4ff284",
   "metadata": {},
   "outputs": [],
   "source": [
    "a = 5"
   ]
  },
  {
   "cell_type": "code",
   "execution_count": 18,
   "id": "e957c794-8734-49d0-acf3-466ab0e3a8a9",
   "metadata": {},
   "outputs": [],
   "source": [
    "b = 5"
   ]
  },
  {
   "cell_type": "code",
   "execution_count": 19,
   "id": "29d80c31-6db9-42ff-a657-edb6f7845902",
   "metadata": {},
   "outputs": [
    {
     "data": {
      "text/plain": [
       "True"
      ]
     },
     "execution_count": 19,
     "metadata": {},
     "output_type": "execute_result"
    }
   ],
   "source": [
    "a is b"
   ]
  },
  {
   "cell_type": "code",
   "execution_count": 20,
   "id": "d0448709-fd2c-4130-a050-9e07c0dbf1a2",
   "metadata": {},
   "outputs": [],
   "source": [
    "a =4\n"
   ]
  },
  {
   "cell_type": "code",
   "execution_count": 21,
   "id": "36fae262-6cc8-4921-9cbe-96621e879161",
   "metadata": {},
   "outputs": [
    {
     "data": {
      "text/plain": [
       "False"
      ]
     },
     "execution_count": 21,
     "metadata": {},
     "output_type": "execute_result"
    }
   ],
   "source": [
    "a is b"
   ]
  },
  {
   "cell_type": "code",
   "execution_count": 22,
   "id": "294c8ab2-8f7b-4603-ad72-23b67449e6e4",
   "metadata": {},
   "outputs": [
    {
     "data": {
      "text/plain": [
       "140707351675784"
      ]
     },
     "execution_count": 22,
     "metadata": {},
     "output_type": "execute_result"
    }
   ],
   "source": [
    "id(a)"
   ]
  },
  {
   "cell_type": "code",
   "execution_count": 23,
   "id": "d92faa4f-43d1-4c96-a11a-914c72798c45",
   "metadata": {},
   "outputs": [
    {
     "data": {
      "text/plain": [
       "140707351675816"
      ]
     },
     "execution_count": 23,
     "metadata": {},
     "output_type": "execute_result"
    }
   ],
   "source": [
    "id(b)"
   ]
  },
  {
   "cell_type": "code",
   "execution_count": 24,
   "id": "8d3efa8f-da08-4f7e-a02b-2006afd3afba",
   "metadata": {},
   "outputs": [],
   "source": [
    "a=5"
   ]
  },
  {
   "cell_type": "code",
   "execution_count": 25,
   "id": "1e805aa7-6a0b-4ab3-b1be-349c00e4c466",
   "metadata": {},
   "outputs": [
    {
     "data": {
      "text/plain": [
       "140707351675816"
      ]
     },
     "execution_count": 25,
     "metadata": {},
     "output_type": "execute_result"
    }
   ],
   "source": [
    "id(b)"
   ]
  },
  {
   "cell_type": "code",
   "execution_count": 26,
   "id": "d9381fe2-62b1-4aaf-afcc-0ba6e37a3257",
   "metadata": {},
   "outputs": [
    {
     "data": {
      "text/plain": [
       "140707351675816"
      ]
     },
     "execution_count": 26,
     "metadata": {},
     "output_type": "execute_result"
    }
   ],
   "source": [
    "id(a)"
   ]
  },
  {
   "cell_type": "code",
   "execution_count": 27,
   "id": "c76dba5c-8c3c-492b-9dd1-31b91c16421e",
   "metadata": {},
   "outputs": [],
   "source": [
    "a,b,c=4,5,6"
   ]
  },
  {
   "cell_type": "code",
   "execution_count": 28,
   "id": "1d79b652-7930-4e13-9edd-81e9ace3b7dd",
   "metadata": {},
   "outputs": [
    {
     "data": {
      "text/plain": [
       "False"
      ]
     },
     "execution_count": 28,
     "metadata": {},
     "output_type": "execute_result"
    }
   ],
   "source": [
    "a is b"
   ]
  },
  {
   "cell_type": "code",
   "execution_count": 29,
   "id": "8dfc8a62-61f8-4812-906c-af803d4ff427",
   "metadata": {},
   "outputs": [],
   "source": [
    "a,b,c=4,4,4"
   ]
  },
  {
   "cell_type": "code",
   "execution_count": 30,
   "id": "912cbdda-a3f5-47bf-a5f6-98b30610d4d1",
   "metadata": {},
   "outputs": [
    {
     "data": {
      "text/plain": [
       "True"
      ]
     },
     "execution_count": 30,
     "metadata": {},
     "output_type": "execute_result"
    }
   ],
   "source": [
    "a is b"
   ]
  },
  {
   "cell_type": "code",
   "execution_count": 31,
   "id": "6651cf5e-c370-4a33-b15e-fdc10434a8bf",
   "metadata": {},
   "outputs": [
    {
     "data": {
      "text/plain": [
       "True"
      ]
     },
     "execution_count": 31,
     "metadata": {},
     "output_type": "execute_result"
    }
   ],
   "source": [
    "a is c"
   ]
  },
  {
   "cell_type": "code",
   "execution_count": 32,
   "id": "7b63447e-8fcd-4511-bead-edea98629d50",
   "metadata": {},
   "outputs": [
    {
     "data": {
      "text/plain": [
       "True"
      ]
     },
     "execution_count": 32,
     "metadata": {},
     "output_type": "execute_result"
    }
   ],
   "source": [
    "b is c"
   ]
  },
  {
   "cell_type": "code",
   "execution_count": 33,
   "id": "494fe96b-f1dd-4a9f-bfba-6d90127b5ca2",
   "metadata": {},
   "outputs": [
    {
     "data": {
      "text/plain": [
       "True"
      ]
     },
     "execution_count": 33,
     "metadata": {},
     "output_type": "execute_result"
    }
   ],
   "source": [
    "c is b"
   ]
  },
  {
   "cell_type": "code",
   "execution_count": 34,
   "id": "09fbb379-7fe4-46f3-9b1d-6652c09fbfca",
   "metadata": {},
   "outputs": [],
   "source": [
    "x,y,z=7,8,9"
   ]
  },
  {
   "cell_type": "code",
   "execution_count": 35,
   "id": "10895326-1cb2-4042-994b-05fe01d77084",
   "metadata": {},
   "outputs": [
    {
     "data": {
      "text/plain": [
       "False"
      ]
     },
     "execution_count": 35,
     "metadata": {},
     "output_type": "execute_result"
    }
   ],
   "source": [
    "x is z"
   ]
  },
  {
   "cell_type": "code",
   "execution_count": 36,
   "id": "66f796b3-cdc2-4a32-8705-c4ea5bd26746",
   "metadata": {},
   "outputs": [],
   "source": [
    "x,y,z=4,5,6"
   ]
  },
  {
   "cell_type": "code",
   "execution_count": 37,
   "id": "0f5eecf5-66e6-4884-ba82-e78baa7a2e0a",
   "metadata": {},
   "outputs": [
    {
     "data": {
      "text/plain": [
       "True"
      ]
     },
     "execution_count": 37,
     "metadata": {},
     "output_type": "execute_result"
    }
   ],
   "source": [
    "x is a"
   ]
  },
  {
   "cell_type": "code",
   "execution_count": 38,
   "id": "de1549f7-1e46-4563-9df9-741d49b90393",
   "metadata": {},
   "outputs": [
    {
     "data": {
      "text/plain": [
       "True"
      ]
     },
     "execution_count": 38,
     "metadata": {},
     "output_type": "execute_result"
    }
   ],
   "source": [
    "x is c"
   ]
  },
  {
   "cell_type": "code",
   "execution_count": 39,
   "id": "2783471f-644b-435a-87ac-6d41dd11a68b",
   "metadata": {},
   "outputs": [
    {
     "ename": "SyntaxError",
     "evalue": "invalid syntax (1712139990.py, line 1)",
     "output_type": "error",
     "traceback": [
      "\u001b[1;36m  Cell \u001b[1;32mIn[39], line 1\u001b[1;36m\u001b[0m\n\u001b[1;33m    a iz x\u001b[0m\n\u001b[1;37m      ^\u001b[0m\n\u001b[1;31mSyntaxError\u001b[0m\u001b[1;31m:\u001b[0m invalid syntax\n"
     ]
    }
   ],
   "source": [
    "a iz x"
   ]
  },
  {
   "cell_type": "code",
   "execution_count": 40,
   "id": "bcd33c73-bf4c-4621-b1b1-8a630af83e04",
   "metadata": {},
   "outputs": [
    {
     "data": {
      "text/plain": [
       "True"
      ]
     },
     "execution_count": 40,
     "metadata": {},
     "output_type": "execute_result"
    }
   ],
   "source": [
    "a is x"
   ]
  },
  {
   "cell_type": "code",
   "execution_count": 41,
   "id": "d5aa6748-d2bc-40ef-b827-772cf9597aa7",
   "metadata": {},
   "outputs": [],
   "source": [
    "str1=\"HP\"\n",
    "str3=\"HP\""
   ]
  },
  {
   "cell_type": "code",
   "execution_count": 44,
   "id": "e049bab3-9b1b-44b4-a74a-9ec6be88479b",
   "metadata": {},
   "outputs": [
    {
     "data": {
      "text/plain": [
       "False"
      ]
     },
     "execution_count": 44,
     "metadata": {},
     "output_type": "execute_result"
    }
   ],
   "source": [
    "str1 is str3"
   ]
  },
  {
   "cell_type": "code",
   "execution_count": 43,
   "id": "d254a30c-e3fa-4aff-8a4c-c4642e79bb52",
   "metadata": {},
   "outputs": [],
   "source": [
    "str3=\"hp\""
   ]
  },
  {
   "cell_type": "code",
   "execution_count": null,
   "id": "a7f3ac46-883c-4b17-83f7-cc74e9c78570",
   "metadata": {},
   "outputs": [],
   "source": []
  }
 ],
 "metadata": {
  "kernelspec": {
   "display_name": "Python 3 (ipykernel)",
   "language": "python",
   "name": "python3"
  },
  "language_info": {
   "codemirror_mode": {
    "name": "ipython",
    "version": 3
   },
   "file_extension": ".py",
   "mimetype": "text/x-python",
   "name": "python",
   "nbconvert_exporter": "python",
   "pygments_lexer": "ipython3",
   "version": "3.11.7"
  }
 },
 "nbformat": 4,
 "nbformat_minor": 5
}
