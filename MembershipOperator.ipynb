{
 "cells": [
  {
   "cell_type": "markdown",
   "id": "5891c0b7-0d74-474b-b062-bafb35c01a23",
   "metadata": {},
   "source": [
    "# Collections list str set tuple range dict"
   ]
  },
  {
   "cell_type": "code",
   "execution_count": 1,
   "id": "80943523-7b8f-4e91-8e7c-7e2c4d9bdc12",
   "metadata": {},
   "outputs": [],
   "source": [
    "EPL = [\"Liverpool\",\"Man Utd\",\"Arsenal\"]"
   ]
  },
  {
   "cell_type": "code",
   "execution_count": 2,
   "id": "00203709-6a7d-4d8a-9968-a83c508b8931",
   "metadata": {},
   "outputs": [
    {
     "data": {
      "text/plain": [
       "['Liverpool', 'Man Utd', 'Arsenal']"
      ]
     },
     "execution_count": 2,
     "metadata": {},
     "output_type": "execute_result"
    }
   ],
   "source": [
    "EPL"
   ]
  },
  {
   "cell_type": "code",
   "execution_count": 3,
   "id": "a6bff922-773e-42c3-8200-6dd22713239b",
   "metadata": {},
   "outputs": [
    {
     "data": {
      "text/plain": [
       "True"
      ]
     },
     "execution_count": 3,
     "metadata": {},
     "output_type": "execute_result"
    }
   ],
   "source": [
    "\"Arsenal\" in EPL"
   ]
  },
  {
   "cell_type": "code",
   "execution_count": 4,
   "id": "7741bb90-849a-4245-b7ac-b6a882be88ff",
   "metadata": {},
   "outputs": [
    {
     "data": {
      "text/plain": [
       "False"
      ]
     },
     "execution_count": 4,
     "metadata": {},
     "output_type": "execute_result"
    }
   ],
   "source": [
    "\"Arsenalw\" in EPL"
   ]
  },
  {
   "cell_type": "code",
   "execution_count": 5,
   "id": "dd4d1bfd-3c18-4191-92b3-96b08aa03d22",
   "metadata": {},
   "outputs": [
    {
     "data": {
      "text/plain": [
       "True"
      ]
     },
     "execution_count": 5,
     "metadata": {},
     "output_type": "execute_result"
    }
   ],
   "source": [
    "'him' in 'himanshu'"
   ]
  },
  {
   "cell_type": "code",
   "execution_count": 6,
   "id": "ce81195f-820b-4a48-a231-dd7e1220db6d",
   "metadata": {},
   "outputs": [
    {
     "data": {
      "text/plain": [
       "False"
      ]
     },
     "execution_count": 6,
     "metadata": {},
     "output_type": "execute_result"
    }
   ],
   "source": [
    "'hm' in 'himanshu'"
   ]
  },
  {
   "cell_type": "code",
   "execution_count": 7,
   "id": "eb37f0a7-f618-4f9e-9005-3e37fa400206",
   "metadata": {},
   "outputs": [
    {
     "data": {
      "text/plain": [
       "False"
      ]
     },
     "execution_count": 7,
     "metadata": {},
     "output_type": "execute_result"
    }
   ],
   "source": [
    "\"Arsenal\" not in EPL"
   ]
  },
  {
   "cell_type": "code",
   "execution_count": 8,
   "id": "16d99b5e-9134-48bb-b65c-0532a16fc731",
   "metadata": {},
   "outputs": [
    {
     "data": {
      "text/plain": [
       "True"
      ]
     },
     "execution_count": 8,
     "metadata": {},
     "output_type": "execute_result"
    }
   ],
   "source": [
    "\"Arsenalw\" not in EPL"
   ]
  },
  {
   "cell_type": "code",
   "execution_count": 9,
   "id": "82e53d20-ad1f-4cd9-bdd4-536e3c3e2629",
   "metadata": {},
   "outputs": [
    {
     "data": {
      "text/plain": [
       "True"
      ]
     },
     "execution_count": 9,
     "metadata": {},
     "output_type": "execute_result"
    }
   ],
   "source": [
    "\"Liverpool\" in EPL and \"Arsenal\" in EPL"
   ]
  },
  {
   "cell_type": "code",
   "execution_count": 10,
   "id": "e7cd709a-2762-4553-90be-b6181aea2326",
   "metadata": {},
   "outputs": [
    {
     "data": {
      "text/plain": [
       "False"
      ]
     },
     "execution_count": 10,
     "metadata": {},
     "output_type": "execute_result"
    }
   ],
   "source": [
    "['Liverpool', 'Man Utd'] in EPL"
   ]
  },
  {
   "cell_type": "code",
   "execution_count": 11,
   "id": "f8c53053-19d7-4e39-83d0-1de5a598b84e",
   "metadata": {},
   "outputs": [],
   "source": [
    "EPL = [\"Liverpool\",\"Man Utd\",\"Arsenal\",[\"Chelsea\",\"ManCity\"]]"
   ]
  },
  {
   "cell_type": "code",
   "execution_count": 12,
   "id": "d1119392-ce1c-4c21-924f-3099435787c7",
   "metadata": {},
   "outputs": [
    {
     "data": {
      "text/plain": [
       "True"
      ]
     },
     "execution_count": 12,
     "metadata": {},
     "output_type": "execute_result"
    }
   ],
   "source": [
    "[\"Chelsea\",\"ManCity\"] in EPL"
   ]
  },
  {
   "cell_type": "code",
   "execution_count": 13,
   "id": "baefca60-429e-460f-87bc-b45ac6fdc6ad",
   "metadata": {},
   "outputs": [
    {
     "data": {
      "text/plain": [
       "False"
      ]
     },
     "execution_count": 13,
     "metadata": {},
     "output_type": "execute_result"
    }
   ],
   "source": [
    "\"Liverpool\" in EPL and \"Arsenal\" not in EPL"
   ]
  },
  {
   "cell_type": "code",
   "execution_count": 14,
   "id": "b178d57b-b07b-4e08-94f5-0e9d15e47bd6",
   "metadata": {},
   "outputs": [
    {
     "data": {
      "text/plain": [
       "False"
      ]
     },
     "execution_count": 14,
     "metadata": {},
     "output_type": "execute_result"
    }
   ],
   "source": [
    "\"Liverpool\" and \"Arsenal\" not in EPL"
   ]
  },
  {
   "cell_type": "code",
   "execution_count": 15,
   "id": "1c747a88-ac43-47a0-be91-c01dd737f255",
   "metadata": {},
   "outputs": [
    {
     "data": {
      "text/plain": [
       "True"
      ]
     },
     "execution_count": 15,
     "metadata": {},
     "output_type": "execute_result"
    }
   ],
   "source": [
    "\"Liverpool\" and \"Arsenal\"  in EPL"
   ]
  },
  {
   "cell_type": "code",
   "execution_count": 16,
   "id": "1c7ba5fe-2a9f-401b-94a1-0fdb6237a772",
   "metadata": {},
   "outputs": [
    {
     "data": {
      "text/plain": [
       "False"
      ]
     },
     "execution_count": 16,
     "metadata": {},
     "output_type": "execute_result"
    }
   ],
   "source": [
    "[\"Liverpool\",\"Man Utd\",\"Arsenal\"] in EPL"
   ]
  },
  {
   "cell_type": "code",
   "execution_count": 17,
   "id": "46f57478-a833-462d-9466-05a879557e54",
   "metadata": {},
   "outputs": [
    {
     "data": {
      "text/plain": [
       "True"
      ]
     },
     "execution_count": 17,
     "metadata": {},
     "output_type": "execute_result"
    }
   ],
   "source": [
    "[\"Chelsea\",\"ManCity\"] in EPL"
   ]
  },
  {
   "cell_type": "code",
   "execution_count": 18,
   "id": "bac3298f-7084-4b09-9b7b-7c96ecdb683d",
   "metadata": {},
   "outputs": [
    {
     "data": {
      "text/plain": [
       "False"
      ]
     },
     "execution_count": 18,
     "metadata": {},
     "output_type": "execute_result"
    }
   ],
   "source": [
    "[\"ManCity\",\"Chelsea\"] in EPL"
   ]
  },
  {
   "cell_type": "code",
   "execution_count": null,
   "id": "2f8931ae-a322-400c-9b02-82cfae0a6ee1",
   "metadata": {},
   "outputs": [],
   "source": []
  }
 ],
 "metadata": {
  "kernelspec": {
   "display_name": "Python 3 (ipykernel)",
   "language": "python",
   "name": "python3"
  },
  "language_info": {
   "codemirror_mode": {
    "name": "ipython",
    "version": 3
   },
   "file_extension": ".py",
   "mimetype": "text/x-python",
   "name": "python",
   "nbconvert_exporter": "python",
   "pygments_lexer": "ipython3",
   "version": "3.11.7"
  }
 },
 "nbformat": 4,
 "nbformat_minor": 5
}
