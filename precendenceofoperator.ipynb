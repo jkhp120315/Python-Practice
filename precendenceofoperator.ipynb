{
 "cells": [
  {
   "cell_type": "code",
   "execution_count": 1,
   "id": "7da80472-967d-4fed-ac32-5908cc22f284",
   "metadata": {},
   "outputs": [],
   "source": [
    "EPL = [\"Liverpool\",\"Arsenal\",\"Chelsea\"]"
   ]
  },
  {
   "cell_type": "code",
   "execution_count": 2,
   "id": "01f3216b-5df4-4cbb-8a6d-a868d93e1b68",
   "metadata": {},
   "outputs": [
    {
     "data": {
      "text/plain": [
       "['Liverpool', 'Arsenal', 'Chelsea']"
      ]
     },
     "execution_count": 2,
     "metadata": {},
     "output_type": "execute_result"
    }
   ],
   "source": [
    "EPL"
   ]
  },
  {
   "cell_type": "code",
   "execution_count": 3,
   "id": "2580ad4e-9266-4e59-b927-1f2f28ceafb5",
   "metadata": {},
   "outputs": [
    {
     "data": {
      "text/plain": [
       "True"
      ]
     },
     "execution_count": 3,
     "metadata": {},
     "output_type": "execute_result"
    }
   ],
   "source": [
    "\"Liverpool\" and \"Arsenal\" in EPL"
   ]
  },
  {
   "cell_type": "code",
   "execution_count": 4,
   "id": "5e011a58-5e38-465d-b225-1425349b21fa",
   "metadata": {},
   "outputs": [
    {
     "data": {
      "text/plain": [
       "False"
      ]
     },
     "execution_count": 4,
     "metadata": {},
     "output_type": "execute_result"
    }
   ],
   "source": [
    "\"Liverpool\" and \"ArsenAal\" in EPL"
   ]
  },
  {
   "cell_type": "code",
   "execution_count": 5,
   "id": "bf9261c6-dd2b-4ba7-809b-65a56a4ff7db",
   "metadata": {},
   "outputs": [
    {
     "data": {
      "text/plain": [
       "84.0"
      ]
     },
     "execution_count": 5,
     "metadata": {},
     "output_type": "execute_result"
    }
   ],
   "source": [
    "6/2+3**4"
   ]
  },
  {
   "cell_type": "code",
   "execution_count": 6,
   "id": "fc13fdfd-998d-4902-b976-62301db3601b",
   "metadata": {},
   "outputs": [
    {
     "data": {
      "text/plain": [
       "'b'"
      ]
     },
     "execution_count": 6,
     "metadata": {},
     "output_type": "execute_result"
    }
   ],
   "source": [
    "\"Liverpool\" and \"Arsenal\" and \"b\" or \"c\" and \"d\" or \"h\" and \"k\""
   ]
  },
  {
   "cell_type": "code",
   "execution_count": 7,
   "id": "bc68a16f-6fe9-45d6-bac0-8382f387898b",
   "metadata": {},
   "outputs": [
    {
     "data": {
      "text/plain": [
       "'Arsenal'"
      ]
     },
     "execution_count": 7,
     "metadata": {},
     "output_type": "execute_result"
    }
   ],
   "source": [
    "\"Liverpool\" and \"Arsenal\""
   ]
  },
  {
   "cell_type": "code",
   "execution_count": 8,
   "id": "0262c098-0ef3-4489-af3b-c4b1a8fe8124",
   "metadata": {},
   "outputs": [
    {
     "data": {
      "text/plain": [
       "512"
      ]
     },
     "execution_count": 8,
     "metadata": {},
     "output_type": "execute_result"
    }
   ],
   "source": [
    "2 ** 3 ** 2"
   ]
  },
  {
   "cell_type": "code",
   "execution_count": 9,
   "id": "e0814ff5-1e6f-4fd9-9d5d-1393584167ae",
   "metadata": {},
   "outputs": [
    {
     "data": {
      "text/plain": [
       "5.0"
      ]
     },
     "execution_count": 9,
     "metadata": {},
     "output_type": "execute_result"
    }
   ],
   "source": [
    "250 / 10 / 5"
   ]
  },
  {
   "cell_type": "code",
   "execution_count": 10,
   "id": "d8d831a1-a793-473e-b94d-bd1da0dee69a",
   "metadata": {},
   "outputs": [
    {
     "data": {
      "text/plain": [
       "'Liverpool'"
      ]
     },
     "execution_count": 10,
     "metadata": {},
     "output_type": "execute_result"
    }
   ],
   "source": [
    "\"Liverpool\" or \"Arsenal\""
   ]
  },
  {
   "cell_type": "code",
   "execution_count": 11,
   "id": "748d27c6-48b5-4762-b546-22ac7cc04e00",
   "metadata": {},
   "outputs": [
    {
     "data": {
      "text/plain": [
       "'b'"
      ]
     },
     "execution_count": 11,
     "metadata": {},
     "output_type": "execute_result"
    }
   ],
   "source": [
    "'b' or 'd' or 'k'"
   ]
  },
  {
   "cell_type": "code",
   "execution_count": 12,
   "id": "cb29f147-93db-4bec-9d35-5fdfbea0211e",
   "metadata": {},
   "outputs": [],
   "source": [
    "a=5\n",
    "b=5"
   ]
  },
  {
   "cell_type": "code",
   "execution_count": 13,
   "id": "443e08c1-5691-490d-8d4c-a19f14804750",
   "metadata": {},
   "outputs": [
    {
     "data": {
      "text/plain": [
       "(5, 5)"
      ]
     },
     "execution_count": 13,
     "metadata": {},
     "output_type": "execute_result"
    }
   ],
   "source": [
    "a,b"
   ]
  },
  {
   "cell_type": "code",
   "execution_count": 14,
   "id": "2193ac9b-040a-473a-b7ea-1c7a3d3238d9",
   "metadata": {},
   "outputs": [
    {
     "ename": "AttributeError",
     "evalue": "'int' object has no attribute 'split'",
     "output_type": "error",
     "traceback": [
      "\u001b[1;31m---------------------------------------------------------------------------\u001b[0m",
      "\u001b[1;31mAttributeError\u001b[0m                            Traceback (most recent call last)",
      "Cell \u001b[1;32mIn[14], line 1\u001b[0m\n\u001b[1;32m----> 1\u001b[0m a\u001b[38;5;241m.\u001b[39msplit()\n",
      "\u001b[1;31mAttributeError\u001b[0m: 'int' object has no attribute 'split'"
     ]
    }
   ],
   "source": [
    "a.split()"
   ]
  },
  {
   "cell_type": "code",
   "execution_count": 15,
   "id": "a2d71aca-7dbb-4892-8fd8-9cd6390513d0",
   "metadata": {},
   "outputs": [],
   "source": [
    "a = \"m  n  k\""
   ]
  },
  {
   "cell_type": "code",
   "execution_count": 16,
   "id": "ad8e1e29-89ce-4217-9df1-ae69114164bb",
   "metadata": {},
   "outputs": [
    {
     "data": {
      "text/plain": [
       "['m', 'n', 'k']"
      ]
     },
     "execution_count": 16,
     "metadata": {},
     "output_type": "execute_result"
    }
   ],
   "source": [
    "a.split(  )"
   ]
  },
  {
   "cell_type": "code",
   "execution_count": 18,
   "id": "4c29950d-51d8-4c64-bea0-d77aa4bc7d29",
   "metadata": {},
   "outputs": [],
   "source": [
    "b=a.split(  )"
   ]
  },
  {
   "cell_type": "code",
   "execution_count": 17,
   "id": "da1d106a-23b9-4369-92a8-4ac7dc7f4893",
   "metadata": {},
   "outputs": [
    {
     "data": {
      "text/plain": [
       "' '"
      ]
     },
     "execution_count": 17,
     "metadata": {},
     "output_type": "execute_result"
    }
   ],
   "source": [
    "a[1]"
   ]
  },
  {
   "cell_type": "code",
   "execution_count": 19,
   "id": "32c27df0-7727-418d-a0c5-a5b5fe0e98d4",
   "metadata": {},
   "outputs": [
    {
     "data": {
      "text/plain": [
       "['m', 'n', 'k']"
      ]
     },
     "execution_count": 19,
     "metadata": {},
     "output_type": "execute_result"
    }
   ],
   "source": [
    "b"
   ]
  },
  {
   "cell_type": "code",
   "execution_count": 20,
   "id": "988023d3-b429-414e-98ad-3f2c1dff52d7",
   "metadata": {},
   "outputs": [
    {
     "data": {
      "text/plain": [
       "'k'"
      ]
     },
     "execution_count": 20,
     "metadata": {},
     "output_type": "execute_result"
    }
   ],
   "source": [
    "b[2]"
   ]
  },
  {
   "cell_type": "code",
   "execution_count": 21,
   "id": "7b687a1d-8a57-47f7-82a5-e799fb5c17c0",
   "metadata": {},
   "outputs": [],
   "source": [
    "a = \"himanshu\""
   ]
  },
  {
   "cell_type": "code",
   "execution_count": null,
   "id": "51216359-ed3f-464a-8d2d-844679c6b244",
   "metadata": {},
   "outputs": [],
   "source": [
    "a[:]"
   ]
  }
 ],
 "metadata": {
  "kernelspec": {
   "display_name": "Python 3 (ipykernel)",
   "language": "python",
   "name": "python3"
  },
  "language_info": {
   "codemirror_mode": {
    "name": "ipython",
    "version": 3
   },
   "file_extension": ".py",
   "mimetype": "text/x-python",
   "name": "python",
   "nbconvert_exporter": "python",
   "pygments_lexer": "ipython3",
   "version": "3.11.7"
  }
 },
 "nbformat": 4,
 "nbformat_minor": 5
}
