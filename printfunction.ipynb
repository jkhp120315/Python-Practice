{
 "cells": [
  {
   "cell_type": "code",
   "execution_count": 1,
   "id": "6b3b1f63-59a2-4389-a998-822135ab9c38",
   "metadata": {},
   "outputs": [],
   "source": [
    "a=1\n",
    "b=2.5\n",
    "c='abc'"
   ]
  },
  {
   "cell_type": "code",
   "execution_count": 2,
   "id": "616d8933-3841-4b39-b4c4-b39c514cdb74",
   "metadata": {},
   "outputs": [
    {
     "name": "stdout",
     "output_type": "stream",
     "text": [
      "a value is 1\n"
     ]
    }
   ],
   "source": [
    "print(\"a value is \" + str(a))"
   ]
  },
  {
   "cell_type": "code",
   "execution_count": 3,
   "id": "fbebb994-4839-4aa6-8f5f-c831c00ddbbf",
   "metadata": {},
   "outputs": [
    {
     "ename": "SyntaxError",
     "evalue": "invalid syntax (4059363461.py, line 1)",
     "output_type": "error",
     "traceback": [
      "\u001b[1;36m  Cell \u001b[1;32mIn[3], line 1\u001b[1;36m\u001b[0m\n\u001b[1;33m    print(\"a value is :\" + %i)\u001b[0m\n\u001b[1;37m                           ^\u001b[0m\n\u001b[1;31mSyntaxError\u001b[0m\u001b[1;31m:\u001b[0m invalid syntax\n"
     ]
    }
   ],
   "source": [
    "print(\"a value is :\" + %i)"
   ]
  },
  {
   "cell_type": "code",
   "execution_count": 4,
   "id": "ce8e3e30-846b-4ec3-a42a-0da56dbfb120",
   "metadata": {},
   "outputs": [
    {
     "name": "stdout",
     "output_type": "stream",
     "text": [
      "a value is : %i 1\n"
     ]
    }
   ],
   "source": [
    "print(\"a value is : %i\" , a)"
   ]
  },
  {
   "cell_type": "code",
   "execution_count": 5,
   "id": "e5a5370a-a9f8-4939-b75d-de289b6b82da",
   "metadata": {},
   "outputs": [
    {
     "name": "stdout",
     "output_type": "stream",
     "text": [
      "a value is : 1\n"
     ]
    }
   ],
   "source": [
    "print(\"a value is : %i\" %a)"
   ]
  },
  {
   "cell_type": "code",
   "execution_count": 6,
   "id": "d24265a9-88f4-4f55-ac5b-0a79db46e20a",
   "metadata": {},
   "outputs": [
    {
     "name": "stdout",
     "output_type": "stream",
     "text": [
      "a value is : %d 1\n"
     ]
    }
   ],
   "source": [
    "print(\"a value is : %d\" , a)"
   ]
  },
  {
   "cell_type": "code",
   "execution_count": 7,
   "id": "4f5704c8-a720-4eca-b262-4e19ef6fe658",
   "metadata": {},
   "outputs": [
    {
     "name": "stdout",
     "output_type": "stream",
     "text": [
      "a value is : 1\n"
     ]
    }
   ],
   "source": [
    "print(\"a value is : %d\" %a)"
   ]
  },
  {
   "cell_type": "code",
   "execution_count": 8,
   "id": "bf668996-46a8-4f44-94ec-18578670c89a",
   "metadata": {},
   "outputs": [
    {
     "name": "stdout",
     "output_type": "stream",
     "text": [
      "b value is : 2.500000\n"
     ]
    }
   ],
   "source": [
    "print(\"b value is : %f\" %b)"
   ]
  },
  {
   "cell_type": "code",
   "execution_count": 9,
   "id": "eaf13ce4-bf56-4c78-9d34-f59fc071020b",
   "metadata": {},
   "outputs": [
    {
     "name": "stdout",
     "output_type": "stream",
     "text": [
      "a value is : 2.500000\n"
     ]
    }
   ],
   "source": [
    "print(\"a value is : %2f\" %b)"
   ]
  },
  {
   "cell_type": "code",
   "execution_count": 10,
   "id": "fb64be9e-9188-447d-bb8a-6fe073c92b77",
   "metadata": {},
   "outputs": [
    {
     "name": "stdout",
     "output_type": "stream",
     "text": [
      "a value is : 2.50\n"
     ]
    }
   ],
   "source": [
    "print(\"a value is : %0.2f\" %b)"
   ]
  },
  {
   "cell_type": "code",
   "execution_count": 11,
   "id": "8533e667-d409-4985-971b-e8590e85bc3e",
   "metadata": {},
   "outputs": [],
   "source": [
    "b=43353.4564"
   ]
  },
  {
   "cell_type": "code",
   "execution_count": 12,
   "id": "4f7a2e14-a2ba-431b-b064-d44c66e1c399",
   "metadata": {},
   "outputs": [
    {
     "name": "stdout",
     "output_type": "stream",
     "text": [
      "a value is : 43353.46\n"
     ]
    }
   ],
   "source": [
    "print(\"a value is : %0.2f\" %b)"
   ]
  },
  {
   "cell_type": "code",
   "execution_count": 13,
   "id": "5c941b79-028b-4d09-ad34-b7f0dff4fc69",
   "metadata": {},
   "outputs": [
    {
     "name": "stdout",
     "output_type": "stream",
     "text": [
      "a value is : 43353.46\n"
     ]
    }
   ],
   "source": [
    "print(\"a value is : %.2f\" %b)"
   ]
  },
  {
   "cell_type": "code",
   "execution_count": 14,
   "id": "089f8263-9ab5-44cc-aad7-cfbb583561b2",
   "metadata": {},
   "outputs": [
    {
     "name": "stdout",
     "output_type": "stream",
     "text": [
      "a value is : 43353.456400000002759043127298355102539062500000\n"
     ]
    }
   ],
   "source": [
    "print(\"a value is : %.42f\" %b)"
   ]
  },
  {
   "cell_type": "code",
   "execution_count": 15,
   "id": "56e2700f-ac3f-4592-8845-680699c0707e",
   "metadata": {},
   "outputs": [
    {
     "name": "stdout",
     "output_type": "stream",
     "text": [
      "a value is : 43353.4564\n"
     ]
    }
   ],
   "source": [
    "print(\"a value is : %.4f\" %b)"
   ]
  },
  {
   "cell_type": "code",
   "execution_count": 16,
   "id": "36b10121-936a-4409-85ec-bc721347e450",
   "metadata": {},
   "outputs": [
    {
     "name": "stdout",
     "output_type": "stream",
     "text": [
      "c value is : abc\n"
     ]
    }
   ],
   "source": [
    "print(\"c value is : %s\" %c)"
   ]
  },
  {
   "cell_type": "code",
   "execution_count": 17,
   "id": "d693b3a2-3ed1-4baa-8e94-74a004e46594",
   "metadata": {},
   "outputs": [
    {
     "ename": "SyntaxError",
     "evalue": "invalid syntax. Perhaps you forgot a comma? (3904571369.py, line 1)",
     "output_type": "error",
     "traceback": [
      "\u001b[1;36m  Cell \u001b[1;32mIn[17], line 1\u001b[1;36m\u001b[0m\n\u001b[1;33m    print(\"a value is : {}\" a)\u001b[0m\n\u001b[1;37m          ^\u001b[0m\n\u001b[1;31mSyntaxError\u001b[0m\u001b[1;31m:\u001b[0m invalid syntax. Perhaps you forgot a comma?\n"
     ]
    }
   ],
   "source": [
    "print(\"a value is : {}\" a)"
   ]
  },
  {
   "cell_type": "code",
   "execution_count": 18,
   "id": "7aaa64b4-f04b-4a97-8c32-8db1c6ac56d5",
   "metadata": {},
   "outputs": [
    {
     "name": "stdout",
     "output_type": "stream",
     "text": [
      "a value is : 43353.4564\n"
     ]
    }
   ],
   "source": [
    "print(\"a value is : {}\".format(b))"
   ]
  },
  {
   "cell_type": "code",
   "execution_count": 19,
   "id": "4d1df867-41cd-4cf3-bb22-9ddcf62215ec",
   "metadata": {},
   "outputs": [
    {
     "name": "stdout",
     "output_type": "stream",
     "text": [
      "a value is : abc\n"
     ]
    }
   ],
   "source": [
    "print(\"a value is : {}\".format(c))"
   ]
  },
  {
   "cell_type": "code",
   "execution_count": 20,
   "id": "d6d84632-0036-4112-bd40-09295e3226c4",
   "metadata": {},
   "outputs": [
    {
     "name": "stdout",
     "output_type": "stream",
     "text": [
      "a value is : 43353.4564\n"
     ]
    }
   ],
   "source": [
    "print(\"a value is : {a1}\".format(a1=b))"
   ]
  },
  {
   "cell_type": "code",
   "execution_count": 21,
   "id": "282ef577-69d5-4618-b405-63552344e618",
   "metadata": {},
   "outputs": [
    {
     "ename": "SyntaxError",
     "evalue": "positional argument follows keyword argument (1168386136.py, line 1)",
     "output_type": "error",
     "traceback": [
      "\u001b[1;36m  Cell \u001b[1;32mIn[21], line 1\u001b[1;36m\u001b[0m\n\u001b[1;33m    print(\"a value is : {a2}\".format(a1=b,a2-a))\u001b[0m\n\u001b[1;37m                                              ^\u001b[0m\n\u001b[1;31mSyntaxError\u001b[0m\u001b[1;31m:\u001b[0m positional argument follows keyword argument\n"
     ]
    }
   ],
   "source": [
    "print(\"a value is : {a2}\".format(a1=b,a2-a))"
   ]
  },
  {
   "cell_type": "code",
   "execution_count": 22,
   "id": "c200b0d7-b6bc-4e7e-8337-3c7fb87fc61f",
   "metadata": {},
   "outputs": [
    {
     "name": "stdout",
     "output_type": "stream",
     "text": [
      "a value is : 43353.4564\n"
     ]
    }
   ],
   "source": [
    "print(\"a value is : {a1}\".format(a1=b,a2=a))"
   ]
  },
  {
   "cell_type": "code",
   "execution_count": 23,
   "id": "2e041268-dfec-441e-aad7-428411a509e6",
   "metadata": {},
   "outputs": [
    {
     "name": "stdout",
     "output_type": "stream",
     "text": [
      "a value is : 1\n"
     ]
    }
   ],
   "source": [
    "print(\"a value is : {a2}\".format(a1=b,a2=a))"
   ]
  },
  {
   "cell_type": "code",
   "execution_count": 24,
   "id": "1899c8f2-b388-4253-ba80-1cffaf101b35",
   "metadata": {},
   "outputs": [
    {
     "name": "stdout",
     "output_type": "stream",
     "text": [
      "a value is : abc and b value is 43353.4564 and c value is 1\n"
     ]
    }
   ],
   "source": [
    "print(\"a value is : {} and b value is {} and c value is {}\".format(c,b,a))"
   ]
  },
  {
   "cell_type": "code",
   "execution_count": 25,
   "id": "8011d9fb-a6ce-445a-913c-efe3c94498fa",
   "metadata": {},
   "outputs": [
    {
     "name": "stdout",
     "output_type": "stream",
     "text": [
      "a value is : {b}\n"
     ]
    }
   ],
   "source": [
    "print(\"a value is : {b}\")"
   ]
  },
  {
   "cell_type": "code",
   "execution_count": 26,
   "id": "cbfceb78-e07d-40b5-8404-6301946eca3d",
   "metadata": {},
   "outputs": [
    {
     "name": "stdout",
     "output_type": "stream",
     "text": [
      "a value is : 43353.4564\n"
     ]
    }
   ],
   "source": [
    "print(f\"a value is : {b}\")"
   ]
  },
  {
   "cell_type": "code",
   "execution_count": 27,
   "id": "d6284a08-6bdd-4cd2-99a5-bd8cef903a0b",
   "metadata": {},
   "outputs": [
    {
     "name": "stdout",
     "output_type": "stream",
     "text": [
      "a value is : abc\n"
     ]
    }
   ],
   "source": [
    "print(f\"a value is : {c}\")"
   ]
  },
  {
   "cell_type": "code",
   "execution_count": 28,
   "id": "446f5435-c306-4414-95e7-928d905dce64",
   "metadata": {},
   "outputs": [
    {
     "name": "stdout",
     "output_type": "stream",
     "text": [
      "a value is : 43353.4564\n"
     ]
    }
   ],
   "source": [
    "print(f\"a value is : {b}\")"
   ]
  },
  {
   "cell_type": "code",
   "execution_count": 29,
   "id": "1b457253-7a07-4e2f-a42b-8192fb75f19b",
   "metadata": {},
   "outputs": [
    {
     "name": "stdout",
     "output_type": "stream",
     "text": [
      "a value is : 43353.46\n"
     ]
    }
   ],
   "source": [
    "print(f\"a value is : {b:.2f}\")"
   ]
  },
  {
   "cell_type": "code",
   "execution_count": 30,
   "id": "8bd5b0ed-ac60-4aeb-b357-90e813b1c931",
   "metadata": {},
   "outputs": [
    {
     "ename": "IndexError",
     "evalue": "Replacement index 3 out of range for positional args tuple",
     "output_type": "error",
     "traceback": [
      "\u001b[1;31m---------------------------------------------------------------------------\u001b[0m",
      "\u001b[1;31mIndexError\u001b[0m                                Traceback (most recent call last)",
      "Cell \u001b[1;32mIn[30], line 1\u001b[0m\n\u001b[1;32m----> 1\u001b[0m \u001b[38;5;28mprint\u001b[39m(\u001b[38;5;124m\"\u001b[39m\u001b[38;5;124ma value is : \u001b[39m\u001b[38;5;132;01m{1}\u001b[39;00m\u001b[38;5;124m and b value is \u001b[39m\u001b[38;5;132;01m{2}\u001b[39;00m\u001b[38;5;124m and c value is \u001b[39m\u001b[38;5;132;01m{3}\u001b[39;00m\u001b[38;5;124m\"\u001b[39m\u001b[38;5;241m.\u001b[39mformat(c,b,a))\n",
      "\u001b[1;31mIndexError\u001b[0m: Replacement index 3 out of range for positional args tuple"
     ]
    }
   ],
   "source": [
    "print(\"a value is : {1} and b value is {2} and c value is {3}\".format(c,b,a))"
   ]
  },
  {
   "cell_type": "code",
   "execution_count": 31,
   "id": "042b3921-6ca3-494f-a5f3-bec843da81e9",
   "metadata": {},
   "outputs": [
    {
     "name": "stdout",
     "output_type": "stream",
     "text": [
      "a value is : 43353.4564 and b value is 1 and c value is 43353.4564\n"
     ]
    }
   ],
   "source": [
    "print(\"a value is : {1} and b value is {2} and c value is {1}\".format(c,b,a))"
   ]
  },
  {
   "cell_type": "code",
   "execution_count": 32,
   "id": "8e3c0fbb-94bf-431f-a742-ca39b6ef4666",
   "metadata": {},
   "outputs": [
    {
     "name": "stdout",
     "output_type": "stream",
     "text": [
      "a value is : 43353.4564 and b value is 1 and c value is abc\n"
     ]
    }
   ],
   "source": [
    "print(\"a value is : {1} and b value is {2} and c value is {0}\".format(c,b,a))"
   ]
  },
  {
   "cell_type": "code",
   "execution_count": null,
   "id": "10f2afb0-ddda-4e75-983e-14a8547eeec4",
   "metadata": {},
   "outputs": [],
   "source": []
  }
 ],
 "metadata": {
  "kernelspec": {
   "display_name": "Python 3 (ipykernel)",
   "language": "python",
   "name": "python3"
  },
  "language_info": {
   "codemirror_mode": {
    "name": "ipython",
    "version": 3
   },
   "file_extension": ".py",
   "mimetype": "text/x-python",
   "name": "python",
   "nbconvert_exporter": "python",
   "pygments_lexer": "ipython3",
   "version": "3.11.7"
  }
 },
 "nbformat": 4,
 "nbformat_minor": 5
}
